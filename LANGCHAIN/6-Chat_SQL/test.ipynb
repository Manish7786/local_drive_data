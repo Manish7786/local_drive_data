{
 "cells": [
  {
   "cell_type": "code",
   "execution_count": 4,
   "metadata": {},
   "outputs": [
    {
     "name": "stdout",
     "output_type": "stream",
     "text": [
      "Error connecting: 1130 (HY000): Host 'fe80::fe69:8194:49d:d28b%17' is not allowed to connect to this MySQL server\n"
     ]
    }
   ],
   "source": [
    "import mysql.connector\n",
    "\n",
    "try:\n",
    "    connection = mysql.connector.connect(\n",
    "        host=\"Manish-Chauhan\",\n",
    "        user=\"root\",\n",
    "        password=\"Manish_7786\",\n",
    "        database=\"student\"\n",
    "    )\n",
    "    print(\"Connected successfully!\")\n",
    "    connection.close()\n",
    "except Exception as e:\n",
    "    print(\"Error connecting:\", e)\n"
   ]
  },
  {
   "cell_type": "code",
   "execution_count": 9,
   "metadata": {},
   "outputs": [
    {
     "name": "stdout",
     "output_type": "stream",
     "text": [
      "Connected to MySQL Server version 8.0.40\n",
      "Connected to database: student\n",
      "MySQL connection is closed\n"
     ]
    }
   ],
   "source": [
    "import mysql.connector\n",
    "from mysql.connector import Error\n",
    "\n",
    "# Connection details\n",
    "mysql_host = \"localhost\"  # e.g., \"localhost\" or an IP address\n",
    "mysql_user = \"root\"  # e.g., \"root\"\n",
    "mysql_password = \"Manish_7786\"  # e.g., \"password123\"\n",
    "mysql_db = \"student\"  # e.g., \"test_db\"\n",
    "\n",
    "try:\n",
    "    # Establishing the connection\n",
    "    connection = mysql.connector.connect(\n",
    "        host=mysql_host,\n",
    "        user=mysql_user,\n",
    "        password=mysql_password,\n",
    "        database=mysql_db\n",
    "    )\n",
    "\n",
    "    if connection.is_connected():\n",
    "        db_info = connection.get_server_info()\n",
    "        print(f\"Connected to MySQL Server version {db_info}\")\n",
    "        cursor = connection.cursor()\n",
    "        cursor.execute(\"SELECT DATABASE();\")\n",
    "        record = cursor.fetchone()\n",
    "        print(f\"Connected to database: {record[0]}\")\n",
    "\n",
    "except Error as e:\n",
    "    print(f\"Error while connecting to MySQL: {e}\")\n",
    "\n",
    "finally:\n",
    "    if connection.is_connected():\n",
    "        cursor.close()\n",
    "        connection.close()\n",
    "        print(\"MySQL connection is closed\")\n"
   ]
  },
  {
   "cell_type": "code",
   "execution_count": null,
   "metadata": {},
   "outputs": [],
   "source": []
  }
 ],
 "metadata": {
  "kernelspec": {
   "display_name": "Python 3",
   "language": "python",
   "name": "python3"
  },
  "language_info": {
   "codemirror_mode": {
    "name": "ipython",
    "version": 3
   },
   "file_extension": ".py",
   "mimetype": "text/x-python",
   "name": "python",
   "nbconvert_exporter": "python",
   "pygments_lexer": "ipython3",
   "version": "3.10.0"
  }
 },
 "nbformat": 4,
 "nbformat_minor": 2
}
