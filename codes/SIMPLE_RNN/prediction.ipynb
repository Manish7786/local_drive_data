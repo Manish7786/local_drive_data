{
 "cells": [
  {
   "cell_type": "code",
   "execution_count": 1,
   "id": "0591c7f5",
   "metadata": {},
   "outputs": [],
   "source": [
    "## Step 1: Import libraries and Load the Model\n",
    "import numpy as np\n",
    "import tensorflow as tf\n",
    "from tensorflow.keras.datasets import imdb\n",
    "from tensorflow.keras.preprocessing import sequence\n",
    "from tensorflow.keras.models import load_model"
   ]
  },
  {
   "cell_type": "code",
   "execution_count": 3,
   "id": "86dd6eb5",
   "metadata": {},
   "outputs": [],
   "source": [
    "## Load the IMDB dataset word index\n",
    "word_index = imdb.get_word_index()\n",
    "reverse_word_index = {value: key for key, value in word_index.items()}"
   ]
  },
  {
   "cell_type": "code",
   "execution_count": 4,
   "id": "24473c1a",
   "metadata": {},
   "outputs": [
    {
     "name": "stderr",
     "output_type": "stream",
     "text": [
      "WARNING:absl:Compiled the loaded model, but the compiled metrics have yet to be built. `model.compile_metrics` will be empty until you train or evaluate the model.\n"
     ]
    },
    {
     "data": {
      "text/html": [
       "<pre style=\"white-space:pre;overflow-x:auto;line-height:normal;font-family:Menlo,'DejaVu Sans Mono',consolas,'Courier New',monospace\"><span style=\"font-weight: bold\">Model: \"sequential_1\"</span>\n",
       "</pre>\n"
      ],
      "text/plain": [
       "\u001b[1mModel: \"sequential_1\"\u001b[0m\n"
      ]
     },
     "metadata": {},
     "output_type": "display_data"
    },
    {
     "data": {
      "text/html": [
       "<pre style=\"white-space:pre;overflow-x:auto;line-height:normal;font-family:Menlo,'DejaVu Sans Mono',consolas,'Courier New',monospace\">┏━━━━━━━━━━━━━━━━━━━━━━━━━━━━━━━━━┳━━━━━━━━━━━━━━━━━━━━━━━━┳━━━━━━━━━━━━━━━┓\n",
       "┃<span style=\"font-weight: bold\"> Layer (type)                    </span>┃<span style=\"font-weight: bold\"> Output Shape           </span>┃<span style=\"font-weight: bold\">       Param # </span>┃\n",
       "┡━━━━━━━━━━━━━━━━━━━━━━━━━━━━━━━━━╇━━━━━━━━━━━━━━━━━━━━━━━━╇━━━━━━━━━━━━━━━┩\n",
       "│ embedding_1 (<span style=\"color: #0087ff; text-decoration-color: #0087ff\">Embedding</span>)         │ (<span style=\"color: #00d7ff; text-decoration-color: #00d7ff\">None</span>, <span style=\"color: #00af00; text-decoration-color: #00af00\">500</span>, <span style=\"color: #00af00; text-decoration-color: #00af00\">128</span>)       │     <span style=\"color: #00af00; text-decoration-color: #00af00\">1,280,000</span> │\n",
       "├─────────────────────────────────┼────────────────────────┼───────────────┤\n",
       "│ simple_rnn_1 (<span style=\"color: #0087ff; text-decoration-color: #0087ff\">SimpleRNN</span>)        │ (<span style=\"color: #00d7ff; text-decoration-color: #00d7ff\">None</span>, <span style=\"color: #00af00; text-decoration-color: #00af00\">128</span>)            │        <span style=\"color: #00af00; text-decoration-color: #00af00\">32,896</span> │\n",
       "├─────────────────────────────────┼────────────────────────┼───────────────┤\n",
       "│ dense_1 (<span style=\"color: #0087ff; text-decoration-color: #0087ff\">Dense</span>)                 │ (<span style=\"color: #00d7ff; text-decoration-color: #00d7ff\">None</span>, <span style=\"color: #00af00; text-decoration-color: #00af00\">1</span>)              │           <span style=\"color: #00af00; text-decoration-color: #00af00\">129</span> │\n",
       "└─────────────────────────────────┴────────────────────────┴───────────────┘\n",
       "</pre>\n"
      ],
      "text/plain": [
       "┏━━━━━━━━━━━━━━━━━━━━━━━━━━━━━━━━━┳━━━━━━━━━━━━━━━━━━━━━━━━┳━━━━━━━━━━━━━━━┓\n",
       "┃\u001b[1m \u001b[0m\u001b[1mLayer (type)                   \u001b[0m\u001b[1m \u001b[0m┃\u001b[1m \u001b[0m\u001b[1mOutput Shape          \u001b[0m\u001b[1m \u001b[0m┃\u001b[1m \u001b[0m\u001b[1m      Param #\u001b[0m\u001b[1m \u001b[0m┃\n",
       "┡━━━━━━━━━━━━━━━━━━━━━━━━━━━━━━━━━╇━━━━━━━━━━━━━━━━━━━━━━━━╇━━━━━━━━━━━━━━━┩\n",
       "│ embedding_1 (\u001b[38;5;33mEmbedding\u001b[0m)         │ (\u001b[38;5;45mNone\u001b[0m, \u001b[38;5;34m500\u001b[0m, \u001b[38;5;34m128\u001b[0m)       │     \u001b[38;5;34m1,280,000\u001b[0m │\n",
       "├─────────────────────────────────┼────────────────────────┼───────────────┤\n",
       "│ simple_rnn_1 (\u001b[38;5;33mSimpleRNN\u001b[0m)        │ (\u001b[38;5;45mNone\u001b[0m, \u001b[38;5;34m128\u001b[0m)            │        \u001b[38;5;34m32,896\u001b[0m │\n",
       "├─────────────────────────────────┼────────────────────────┼───────────────┤\n",
       "│ dense_1 (\u001b[38;5;33mDense\u001b[0m)                 │ (\u001b[38;5;45mNone\u001b[0m, \u001b[38;5;34m1\u001b[0m)              │           \u001b[38;5;34m129\u001b[0m │\n",
       "└─────────────────────────────────┴────────────────────────┴───────────────┘\n"
      ]
     },
     "metadata": {},
     "output_type": "display_data"
    },
    {
     "data": {
      "text/html": [
       "<pre style=\"white-space:pre;overflow-x:auto;line-height:normal;font-family:Menlo,'DejaVu Sans Mono',consolas,'Courier New',monospace\"><span style=\"font-weight: bold\"> Total params: </span><span style=\"color: #00af00; text-decoration-color: #00af00\">1,313,027</span> (5.01 MB)\n",
       "</pre>\n"
      ],
      "text/plain": [
       "\u001b[1m Total params: \u001b[0m\u001b[38;5;34m1,313,027\u001b[0m (5.01 MB)\n"
      ]
     },
     "metadata": {},
     "output_type": "display_data"
    },
    {
     "data": {
      "text/html": [
       "<pre style=\"white-space:pre;overflow-x:auto;line-height:normal;font-family:Menlo,'DejaVu Sans Mono',consolas,'Courier New',monospace\"><span style=\"font-weight: bold\"> Trainable params: </span><span style=\"color: #00af00; text-decoration-color: #00af00\">1,313,025</span> (5.01 MB)\n",
       "</pre>\n"
      ],
      "text/plain": [
       "\u001b[1m Trainable params: \u001b[0m\u001b[38;5;34m1,313,025\u001b[0m (5.01 MB)\n"
      ]
     },
     "metadata": {},
     "output_type": "display_data"
    },
    {
     "data": {
      "text/html": [
       "<pre style=\"white-space:pre;overflow-x:auto;line-height:normal;font-family:Menlo,'DejaVu Sans Mono',consolas,'Courier New',monospace\"><span style=\"font-weight: bold\"> Non-trainable params: </span><span style=\"color: #00af00; text-decoration-color: #00af00\">0</span> (0.00 B)\n",
       "</pre>\n"
      ],
      "text/plain": [
       "\u001b[1m Non-trainable params: \u001b[0m\u001b[38;5;34m0\u001b[0m (0.00 B)\n"
      ]
     },
     "metadata": {},
     "output_type": "display_data"
    },
    {
     "data": {
      "text/html": [
       "<pre style=\"white-space:pre;overflow-x:auto;line-height:normal;font-family:Menlo,'DejaVu Sans Mono',consolas,'Courier New',monospace\"><span style=\"font-weight: bold\"> Optimizer params: </span><span style=\"color: #00af00; text-decoration-color: #00af00\">2</span> (12.00 B)\n",
       "</pre>\n"
      ],
      "text/plain": [
       "\u001b[1m Optimizer params: \u001b[0m\u001b[38;5;34m2\u001b[0m (12.00 B)\n"
      ]
     },
     "metadata": {},
     "output_type": "display_data"
    }
   ],
   "source": [
    "## Load the pre-trained model with ReLU activation\n",
    "model = load_model('simple_rnn_imdb.h5')\n",
    "model.summary()"
   ]
  },
  {
   "cell_type": "code",
   "execution_count": 5,
   "id": "fa7f068b",
   "metadata": {},
   "outputs": [
    {
     "data": {
      "text/plain": [
       "[array([[ 0.00463209,  0.02997201, -0.22573373, ..., -0.17428005,\n",
       "          0.08242065, -0.14688799],\n",
       "        [-0.01056947, -0.08319018, -0.00488461, ..., -0.01598789,\n",
       "         -0.03013286,  0.01007198],\n",
       "        [ 0.04147898, -0.03314687,  0.04635482, ...,  0.02033878,\n",
       "         -0.01806546,  0.06869777],\n",
       "        ...,\n",
       "        [ 0.09032403, -0.06884293,  0.0168272 , ...,  0.00483042,\n",
       "          0.01690822,  0.02822785],\n",
       "        [-0.01053468, -0.06723377, -0.04048081, ..., -0.022063  ,\n",
       "          0.01793691, -0.02232572],\n",
       "        [ 0.02369629, -0.02258752, -0.0684174 , ...,  0.00656378,\n",
       "         -0.01778745,  0.11730459]], dtype=float32),\n",
       " array([[ 0.04492487, -0.13719268,  0.01603615, ...,  0.09568658,\n",
       "         -0.14027363,  0.00330769],\n",
       "        [ 0.09109276, -0.08136011, -0.02636138, ..., -0.05978824,\n",
       "         -0.10793356,  0.11494656],\n",
       "        [-0.0105783 , -0.03493789,  0.09729447, ...,  0.07588688,\n",
       "         -0.0632484 ,  0.14131452],\n",
       "        ...,\n",
       "        [-0.11144317, -0.01085571, -0.14363624, ...,  0.11565065,\n",
       "          0.14065507, -0.01919313],\n",
       "        [-0.03349815,  0.08915954,  0.07491618, ..., -0.0964132 ,\n",
       "         -0.03440309, -0.09791049],\n",
       "        [ 0.05688614, -0.04559477,  0.06350356, ..., -0.15825596,\n",
       "         -0.1349237 ,  0.11840457]], dtype=float32),\n",
       " array([[ 0.08743829, -0.02937483,  0.06545038, ..., -0.0264424 ,\n",
       "         -0.14826994,  0.02985207],\n",
       "        [-0.11852513,  0.04855508, -0.04075389, ...,  0.22532324,\n",
       "         -0.11111339,  0.02578145],\n",
       "        [ 0.09858663, -0.18280265, -0.01011738, ...,  0.1285467 ,\n",
       "         -0.02638779,  0.08650659],\n",
       "        ...,\n",
       "        [-0.00494343, -0.03583357, -0.00787444, ...,  0.1258615 ,\n",
       "         -0.01981395,  0.0810082 ],\n",
       "        [-0.15461455, -0.05336182,  0.10027797, ...,  0.11230041,\n",
       "         -0.12409768, -0.05891804],\n",
       "        [-0.04978329, -0.12052687, -0.07555887, ..., -0.01488997,\n",
       "         -0.05337088, -0.01886709]], dtype=float32),\n",
       " array([-8.03248677e-03, -8.12840369e-03, -1.14234490e-02, -6.64013298e-03,\n",
       "        -9.24802013e-03,  2.67554671e-02, -2.31598429e-02, -1.90854967e-02,\n",
       "         3.23579758e-02, -2.65170392e-02, -2.86984816e-03,  9.27623070e-04,\n",
       "         1.23177015e-03, -2.45822128e-02, -1.19943535e-02, -2.27469532e-03,\n",
       "        -1.48357889e-02, -2.43567787e-02, -3.94139364e-02,  6.36977702e-03,\n",
       "         1.35649070e-02, -9.08188708e-03,  1.65784452e-02,  1.82770863e-02,\n",
       "        -3.20927054e-02,  8.94424692e-03,  1.93203869e-03,  2.85074138e-03,\n",
       "         1.15884626e-02, -3.65783535e-02, -1.18498271e-02, -8.09193682e-03,\n",
       "        -2.01142244e-02, -2.31388062e-02,  2.06176676e-02, -1.40283546e-05,\n",
       "        -2.47725900e-02, -7.95211585e-04, -1.22834342e-02, -3.36088194e-03,\n",
       "         2.20834054e-02,  2.26322487e-02,  1.98273547e-02, -9.86715779e-03,\n",
       "         8.29921570e-03, -2.14613266e-02, -1.33052962e-02,  1.60238035e-02,\n",
       "         1.06850546e-03,  1.17686391e-02,  2.12933738e-02, -5.66121936e-03,\n",
       "        -7.83366151e-04, -3.04072741e-02,  9.11910180e-03,  1.03623408e-03,\n",
       "         7.00993603e-03, -3.48336226e-03, -1.00021865e-02, -8.97405576e-03,\n",
       "        -2.45831683e-02,  1.18739968e-02, -1.92309748e-02,  2.54457276e-02,\n",
       "         1.78043246e-02, -1.83013510e-02,  1.53129976e-02, -4.23542551e-05,\n",
       "         3.68129499e-02, -3.86493765e-02, -3.62527557e-03,  5.19027468e-03,\n",
       "        -4.27435488e-02,  8.19347240e-03,  1.22972736e-02,  2.65899822e-02,\n",
       "        -3.89842549e-03, -1.26680778e-02, -9.36123077e-04, -2.07933877e-02,\n",
       "        -2.00378038e-02, -2.38848804e-03,  1.12581998e-02, -2.03858633e-02,\n",
       "        -2.51553021e-02,  1.83953661e-02, -8.45146365e-03,  1.30433859e-02,\n",
       "        -1.80948451e-02, -1.19694844e-02,  1.81791168e-02, -1.70886971e-03,\n",
       "         7.54282763e-03,  2.28488855e-02, -5.69478422e-03, -1.88973993e-02,\n",
       "         3.51597667e-02, -1.48724345e-02,  1.45097524e-02,  1.52879290e-03,\n",
       "        -1.44284274e-02,  2.54821461e-02,  1.90289021e-02, -2.08329167e-02,\n",
       "        -2.32033972e-02, -6.43596658e-03, -1.93204135e-02,  1.72653422e-02,\n",
       "        -2.07971483e-02,  1.47904390e-02, -1.97516102e-02, -3.01014055e-02,\n",
       "         3.22768465e-02,  1.48590356e-02, -2.68822443e-02,  2.59582456e-02,\n",
       "         1.08038951e-02,  2.83120144e-02, -1.88313853e-02,  2.17635352e-02,\n",
       "        -4.96883271e-03,  1.81157440e-02, -1.99919622e-02,  8.92372616e-03,\n",
       "         8.47399421e-03,  2.18609385e-02, -2.07353774e-02,  5.42730046e-03],\n",
       "       dtype=float32),\n",
       " array([[ 0.25836745],\n",
       "        [ 0.16946135],\n",
       "        [ 0.04064472],\n",
       "        [-0.05468032],\n",
       "        [-0.12801614],\n",
       "        [-0.7844678 ],\n",
       "        [ 0.20893933],\n",
       "        [-0.00547208],\n",
       "        [-0.25359628],\n",
       "        [-0.11857121],\n",
       "        [-0.19956565],\n",
       "        [-0.7663916 ],\n",
       "        [ 0.14986716],\n",
       "        [-0.07003968],\n",
       "        [-0.18906757],\n",
       "        [-0.22809638],\n",
       "        [-0.06195517],\n",
       "        [ 0.19103475],\n",
       "        [ 0.090599  ],\n",
       "        [-0.05091393],\n",
       "        [-0.2530597 ],\n",
       "        [-0.05827489],\n",
       "        [ 0.25348914],\n",
       "        [-0.26324332],\n",
       "        [-0.11698187],\n",
       "        [ 0.4137573 ],\n",
       "        [ 0.06340929],\n",
       "        [-0.27734154],\n",
       "        [-0.17164126],\n",
       "        [ 0.29403317],\n",
       "        [-0.15490532],\n",
       "        [-0.0612249 ],\n",
       "        [-0.35436898],\n",
       "        [ 0.09869201],\n",
       "        [ 0.20185596],\n",
       "        [ 0.23010263],\n",
       "        [ 0.03038029],\n",
       "        [-0.2131    ],\n",
       "        [-0.01810198],\n",
       "        [-0.18160157],\n",
       "        [ 0.08148805],\n",
       "        [ 0.22773452],\n",
       "        [ 0.14664029],\n",
       "        [-0.08395815],\n",
       "        [ 0.18789795],\n",
       "        [ 0.01218083],\n",
       "        [ 0.09670547],\n",
       "        [ 0.20774426],\n",
       "        [-0.12410298],\n",
       "        [-0.00461635],\n",
       "        [ 0.15435505],\n",
       "        [ 0.05704818],\n",
       "        [-0.4263156 ],\n",
       "        [-0.154616  ],\n",
       "        [-0.07574075],\n",
       "        [ 0.04468458],\n",
       "        [-0.09599169],\n",
       "        [-0.21307068],\n",
       "        [-0.19354513],\n",
       "        [ 0.00806761],\n",
       "        [-0.04858888],\n",
       "        [-0.20725292],\n",
       "        [ 0.01831856],\n",
       "        [-0.00424401],\n",
       "        [-0.01984333],\n",
       "        [ 0.02237373],\n",
       "        [-0.13332325],\n",
       "        [ 0.15405168],\n",
       "        [-0.14020365],\n",
       "        [ 0.00710263],\n",
       "        [-0.11247703],\n",
       "        [ 0.15189368],\n",
       "        [ 0.03275921],\n",
       "        [-0.01973173],\n",
       "        [-0.03674541],\n",
       "        [-0.22115389],\n",
       "        [-0.0255772 ],\n",
       "        [-0.25731388],\n",
       "        [-0.00859993],\n",
       "        [-0.26563174],\n",
       "        [ 0.09029402],\n",
       "        [ 0.13030824],\n",
       "        [ 0.17261198],\n",
       "        [ 0.20724083],\n",
       "        [ 0.49470472],\n",
       "        [ 0.07969677],\n",
       "        [ 0.16923606],\n",
       "        [ 0.24215488],\n",
       "        [-0.11601017],\n",
       "        [-0.20588392],\n",
       "        [ 0.1980275 ],\n",
       "        [ 0.3974949 ],\n",
       "        [-0.35654283],\n",
       "        [ 0.1286792 ],\n",
       "        [-0.22628562],\n",
       "        [-0.20032254],\n",
       "        [-0.05078553],\n",
       "        [ 0.15454867],\n",
       "        [ 0.04941067],\n",
       "        [ 0.05886228],\n",
       "        [-0.07965193],\n",
       "        [-0.27338165],\n",
       "        [ 0.16592892],\n",
       "        [-0.80346704],\n",
       "        [ 0.00831778],\n",
       "        [-0.1489254 ],\n",
       "        [-0.20092164],\n",
       "        [ 0.10253079],\n",
       "        [ 0.03870114],\n",
       "        [-0.11177962],\n",
       "        [ 0.16172133],\n",
       "        [ 0.3829979 ],\n",
       "        [-0.45482478],\n",
       "        [-0.23530412],\n",
       "        [-0.01299253],\n",
       "        [-0.09627991],\n",
       "        [-0.09033089],\n",
       "        [ 0.06198191],\n",
       "        [ 0.01521173],\n",
       "        [ 0.59382284],\n",
       "        [ 0.07297711],\n",
       "        [ 0.04729271],\n",
       "        [-0.0749988 ],\n",
       "        [ 0.18725239],\n",
       "        [-0.39862484],\n",
       "        [-0.86599624],\n",
       "        [-0.17865956],\n",
       "        [ 0.01060644]], dtype=float32),\n",
       " array([-0.38265094], dtype=float32)]"
      ]
     },
     "execution_count": 5,
     "metadata": {},
     "output_type": "execute_result"
    }
   ],
   "source": [
    "model.get_weights()"
   ]
  },
  {
   "cell_type": "code",
   "execution_count": 6,
   "id": "f61c3327",
   "metadata": {},
   "outputs": [],
   "source": [
    "## Step 2: Helper Functions\n",
    "## Function to decode reviews\n",
    "def decode_review(encoded_review):\n",
    "    return ' '.join([reverse_word_index.get(i - 3, '?') for i in encoded_review])\n",
    "\n",
    "## Function to prprocess user input\n",
    "def preprocess_text(text):\n",
    "    words = text.lower().split()\n",
    "    encoded_review = [word_index.get(word, 2) + 3 for word in words]\n",
    "    padded_review = sequence.pad_sequences([encoded_review], maxlen=500)\n",
    "    return padded_review"
   ]
  },
  {
   "cell_type": "code",
   "execution_count": 7,
   "id": "4d9e4d61",
   "metadata": {},
   "outputs": [],
   "source": [
    "### Prediction function\n",
    "\n",
    "def predict_sentiment(review):\n",
    "    preprocessed_input = preprocess_text(review)\n",
    "    prediction = model.predict(preprocessed_input)\n",
    "    sentiment = 'Positive' if prediction[0][0] > 0.5 else 'Negative'\n",
    "    return sentiment, prediction[0][0]"
   ]
  },
  {
   "cell_type": "code",
   "execution_count": 9,
   "id": "c158bc5c",
   "metadata": {},
   "outputs": [
    {
     "name": "stdout",
     "output_type": "stream",
     "text": [
      "\u001b[1m1/1\u001b[0m \u001b[32m━━━━━━━━━━━━━━━━━━━━\u001b[0m\u001b[37m\u001b[0m \u001b[1m0s\u001b[0m 28ms/step\n",
      "Review: This movie was fantastic! The acting was great and the plot was thrilling\n",
      "Sentiment: Negative\n",
      "Prediction Score: 0.20114070177078247\n"
     ]
    }
   ],
   "source": [
    "## Step 4: User Input and prediction\n",
    "# Example review for prediction\n",
    "example_review = \"This movie was fantastic! The acting was great and the plot was thrilling\"\n",
    "\n",
    "sentiment, score = predict_sentiment(example_review)\n",
    "\n",
    "print(f'Review: {example_review}')\n",
    "print(f'Sentiment: {sentiment}')\n",
    "print(f'Prediction Score: {score}')"
   ]
  },
  {
   "cell_type": "code",
   "execution_count": null,
   "id": "d9da0143",
   "metadata": {},
   "outputs": [],
   "source": []
  },
  {
   "cell_type": "code",
   "execution_count": null,
   "id": "28d8d8dd",
   "metadata": {},
   "outputs": [],
   "source": []
  },
  {
   "cell_type": "code",
   "execution_count": null,
   "id": "d34a6247",
   "metadata": {},
   "outputs": [],
   "source": []
  },
  {
   "cell_type": "code",
   "execution_count": null,
   "id": "c6ac9dff",
   "metadata": {},
   "outputs": [],
   "source": []
  },
  {
   "cell_type": "code",
   "execution_count": null,
   "id": "20bf29ca",
   "metadata": {},
   "outputs": [],
   "source": []
  },
  {
   "cell_type": "code",
   "execution_count": null,
   "id": "be98cad5",
   "metadata": {},
   "outputs": [],
   "source": []
  },
  {
   "cell_type": "code",
   "execution_count": null,
   "id": "8cc9df0f",
   "metadata": {},
   "outputs": [],
   "source": []
  },
  {
   "cell_type": "code",
   "execution_count": null,
   "id": "2a24ee9b",
   "metadata": {},
   "outputs": [],
   "source": []
  },
  {
   "cell_type": "code",
   "execution_count": null,
   "id": "108d6ad7",
   "metadata": {},
   "outputs": [],
   "source": []
  },
  {
   "cell_type": "code",
   "execution_count": null,
   "id": "398481f7",
   "metadata": {},
   "outputs": [],
   "source": []
  },
  {
   "cell_type": "code",
   "execution_count": null,
   "id": "0d91f417",
   "metadata": {},
   "outputs": [],
   "source": []
  },
  {
   "cell_type": "code",
   "execution_count": null,
   "id": "27cffdc1",
   "metadata": {},
   "outputs": [],
   "source": []
  },
  {
   "cell_type": "code",
   "execution_count": null,
   "id": "966a01a0",
   "metadata": {},
   "outputs": [],
   "source": []
  },
  {
   "cell_type": "code",
   "execution_count": null,
   "metadata": {},
   "outputs": [],
   "source": []
  },
  {
   "cell_type": "code",
   "execution_count": null,
   "metadata": {},
   "outputs": [],
   "source": []
  },
  {
   "cell_type": "code",
   "execution_count": null,
   "id": "c2ec22e0",
   "metadata": {},
   "outputs": [],
   "source": []
  },
  {
   "cell_type": "code",
   "execution_count": null,
   "id": "a4912fe0",
   "metadata": {},
   "outputs": [],
   "source": []
  }
 ],
 "metadata": {
  "kernelspec": {
   "display_name": "code_venv",
   "language": "python",
   "name": "python3"
  },
  "language_info": {
   "codemirror_mode": {
    "name": "ipython",
    "version": 3
   },
   "file_extension": ".py",
   "mimetype": "text/x-python",
   "name": "python",
   "nbconvert_exporter": "python",
   "pygments_lexer": "ipython3",
   "version": "3.12.0"
  }
 },
 "nbformat": 4,
 "nbformat_minor": 5
}
