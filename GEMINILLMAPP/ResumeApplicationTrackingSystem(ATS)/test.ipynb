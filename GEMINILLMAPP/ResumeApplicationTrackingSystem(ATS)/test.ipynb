{
 "cells": [
  {
   "cell_type": "code",
   "execution_count": 1,
   "metadata": {},
   "outputs": [
    {
     "name": "stdout",
     "output_type": "stream",
     "text": [
      "c:\\Users\\Manish\\udemy_course\\GEMINILLMAPP\\geminillmvenv;C:\\Users\\Manish\\udemy_course\\GEMINILLMAPP\\geminillmvenv;C:\\Users\\Manish\\udemy_course\\GEMINILLMAPP\\geminillmvenv\\Library\\mingw-w64\\bin;C:\\Users\\Manish\\udemy_course\\GEMINILLMAPP\\geminillmvenv\\Library\\usr\\bin;C:\\Users\\Manish\\udemy_course\\GEMINILLMAPP\\geminillmvenv\\Library\\bin;C:\\Users\\Manish\\udemy_course\\GEMINILLMAPP\\geminillmvenv\\Scripts;C:\\Users\\Manish\\udemy_course\\GEMINILLMAPP\\geminillmvenv\\bin;C:\\Users\\Manish\\anaconda3\\condabin;C:\\windows\\system32;C:\\windows;C:\\windows\\System32\\Wbem;C:\\windows\\System32\\WindowsPowerShell\\v1.0;C:\\windows\\System32\\OpenSSH;C:\\Program Files\\Docker\\Docker\\resources\\bin;C:\\Program Files\\Git\\cmd;C:\\Users\\Manish\\poppler-24.08.0\\Library\\bin;C:\\Users\\Manish\\anaconda3;C:\\Users\\Manish\\anaconda3\\Library\\mingw-w64\\bin;C:\\Users\\Manish\\anaconda3\\Library\\usr\\bin;C:\\Users\\Manish\\anaconda3\\Library\\bin;C:\\Users\\Manish\\anaconda3\\Scripts;C:\\Users\\Manish\\AppData\\Local\\Programs\\Python\\Python310\\Scripts;C:\\Users\\Manish\\AppData\\Local\\Programs\\Python\\Python310;C:\\Users\\Manish\\AppData\\Local\\Microsoft\\WindowsApps;C:\\Users\\Manish\\AppData\\Local\\Programs\\Microsoft VS Code\\bin;C:\\Users\\Manish\\AppData\\Local\\Programs\\Ollama\n"
     ]
    }
   ],
   "source": [
    "import os\n",
    "print(os.environ[\"PATH\"])"
   ]
  },
  {
   "cell_type": "code",
   "execution_count": null,
   "metadata": {},
   "outputs": [],
   "source": []
  }
 ],
 "metadata": {
  "kernelspec": {
   "display_name": "Python 3",
   "language": "python",
   "name": "python3"
  },
  "language_info": {
   "codemirror_mode": {
    "name": "ipython",
    "version": 3
   },
   "file_extension": ".py",
   "mimetype": "text/x-python",
   "name": "python",
   "nbconvert_exporter": "python",
   "pygments_lexer": "ipython3",
   "version": "3.10.16"
  }
 },
 "nbformat": 4,
 "nbformat_minor": 2
}
